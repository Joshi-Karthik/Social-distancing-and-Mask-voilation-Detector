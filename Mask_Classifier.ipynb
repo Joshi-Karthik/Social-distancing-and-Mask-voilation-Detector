{
  "nbformat": 4,
  "nbformat_minor": 0,
  "metadata": {
    "colab": {
      "name": "Mask Classifier.ipynb",
      "provenance": [],
      "collapsed_sections": [],
      "toc_visible": true
    },
    "kernelspec": {
      "name": "python3",
      "display_name": "Python 3"
    }
  },
  "cells": [
    {
      "cell_type": "markdown",
      "metadata": {
        "id": "lP6JLo1tGNBg"
      },
      "source": [
        "# Mask Classification "
      ]
    },
    {
      "cell_type": "markdown",
      "metadata": {
        "id": "gWZyYmS_UE_L"
      },
      "source": [
        "### Importing the libraries"
      ]
    },
    {
      "cell_type": "code",
      "metadata": {
        "id": "MxkJoQBkUIHC"
      },
      "source": [
        "from tensorflow.keras.preprocessing.image import ImageDataGenerator\n",
        "from tensorflow.keras.applications import MobileNetV2\n",
        "from tensorflow.keras.layers import AveragePooling2D\n",
        "from tensorflow.keras.layers import Dropout\n",
        "from tensorflow.keras.layers import Flatten\n",
        "from tensorflow.keras.layers import Dense\n",
        "from tensorflow.keras.layers import Input\n",
        "from tensorflow.keras.models import Model\n",
        "from tensorflow.keras.optimizers import Adam\n",
        "from tensorflow.keras.applications.mobilenet_v2 import preprocess_input\n",
        "from tensorflow.keras.preprocessing.image import img_to_array\n",
        "from tensorflow.keras.preprocessing.image import load_img\n",
        "from tensorflow.keras.utils import to_categorical\n",
        "from sklearn.preprocessing import LabelBinarizer\n",
        "from sklearn.model_selection import train_test_split\n",
        "from sklearn.metrics import classification_report\n",
        "from imutils import paths\n",
        "import matplotlib.pyplot as plt\n",
        "import numpy as np\n",
        "import argparse\n",
        "import os\n",
        "import random\n",
        "import cv2\n",
        "import matplotlib\n",
        "matplotlib.use(\"Agg\")\n",
        "\n"
      ],
      "execution_count": null,
      "outputs": []
    },
    {
      "cell_type": "markdown",
      "metadata": {
        "id": "1E0Q3aoKUCRX"
      },
      "source": [
        "## Part 1 - Data Preprocessing"
      ]
    },
    {
      "cell_type": "markdown",
      "metadata": {
        "id": "cKWAkFVGUU0Z"
      },
      "source": [
        "### Importing the dataset"
      ]
    },
    {
      "cell_type": "code",
      "metadata": {
        "id": "MXUkhkMfU4wq"
      },
      "source": [
        "data = []\n",
        "labels = []\n",
        "\n",
        "imagePaths=[]\n",
        "directory = ['/content/drive/My Drive/MaskDetector Dataset/No Mask/','/content/drive/My Drive/MaskDetector Dataset/With Mask/']\n",
        "for dir in directory:\n",
        "  for filename in os.listdir(dir):\n",
        "    imagePaths.append(dir+filename)\n",
        "# grab the image paths and randomly shuffle them\n",
        "random.seed(42)\n",
        "random.shuffle(imagePaths)"
      ],
      "execution_count": null,
      "outputs": []
    },
    {
      "cell_type": "markdown",
      "metadata": {
        "id": "Ti5LNty0h6Ff"
      },
      "source": [
        "### Loading Images and labels"
      ]
    },
    {
      "cell_type": "code",
      "metadata": {
        "id": "myrr7B5EhiG-"
      },
      "source": [
        "for imagePath in imagePaths:\n",
        "\t# extract the class label from the filename\n",
        "\tlabel = imagePath.split(os.path.sep)[-2]\n",
        "\n",
        "\t# load the input image (224x224) and preprocess it\n",
        "\timage = load_img(imagePath, target_size=(224, 224))\n",
        "\timage = img_to_array(image)\n",
        "\timage = preprocess_input(image)\n",
        "\n",
        "\t# update the data and labels lists, respectively\n",
        "\tdata.append(image)\n",
        "\tlabels.append(label)\n",
        "\n",
        "data = np.array(data, dtype=\"float32\")\n",
        "labels = np.array(labels)"
      ],
      "execution_count": null,
      "outputs": []
    },
    {
      "cell_type": "markdown",
      "metadata": {
        "id": "N6bQ0UgSU-NJ"
      },
      "source": [
        "### Encoding categorical data"
      ]
    },
    {
      "cell_type": "code",
      "metadata": {
        "id": "PxVKWXxLbczC"
      },
      "source": [
        "lb = LabelBinarizer()\n",
        "labels = lb.fit_transform(labels)\n",
        "labels = to_categorical(labels)"
      ],
      "execution_count": null,
      "outputs": []
    },
    {
      "cell_type": "markdown",
      "metadata": {
        "id": "vHol938cW8zd"
      },
      "source": [
        "### Splitting the dataset into the Training set and Test set"
      ]
    },
    {
      "cell_type": "code",
      "metadata": {
        "id": "Z-TDt0Y_XEfc"
      },
      "source": [
        "(trainX, testX, trainY, testY) = train_test_split(data, labels,\n",
        "\ttest_size=0.20, stratify=labels, random_state=42)"
      ],
      "execution_count": null,
      "outputs": []
    },
    {
      "cell_type": "markdown",
      "metadata": {
        "id": "RE_FcHyfV3TQ"
      },
      "source": [
        "### Data Augementation "
      ]
    },
    {
      "cell_type": "code",
      "metadata": {
        "id": "ViCrE00rV8Sk"
      },
      "source": [
        "aug = ImageDataGenerator(\n",
        "\trotation_range=20,\n",
        "\tzoom_range=0.15,\n",
        "\twidth_shift_range=0.2,\n",
        "\theight_shift_range=0.2,\n",
        "\tshear_range=0.15,\n",
        "\thorizontal_flip=True,\n",
        "\tfill_mode=\"nearest\")"
      ],
      "execution_count": null,
      "outputs": []
    },
    {
      "cell_type": "markdown",
      "metadata": {
        "id": "-zfEzkRVXIwF"
      },
      "source": [
        "##  Part 2 - Loading and Building the Model - MobileNet2"
      ]
    },
    {
      "cell_type": "code",
      "metadata": {
        "id": "Cn3x41RBYfvY",
        "outputId": "db5a5f87-659e-44cf-fe8a-c01270eb44ce",
        "colab": {
          "base_uri": "https://localhost:8080/",
          "height": 68
        }
      },
      "source": [
        "baseModel = MobileNetV2(weights=\"imagenet\", include_top=False,input_tensor=Input(shape=(224, 224, 3)))\n",
        "headModel = baseModel.output\n",
        "headModel = AveragePooling2D(pool_size=(7, 7))(headModel)\n",
        "headModel = Flatten(name=\"flatten\")(headModel)\n",
        "headModel = Dense(128, activation=\"relu\")(headModel)\n",
        "headModel = Dropout(0.5)(headModel)\n",
        "headModel = Dense(2, activation=\"softmax\")(headModel)\n",
        "\n",
        "# place the head FC model on top of the base model (this will become\n",
        "# the actual model we will train)\n",
        "model = Model(inputs=baseModel.input, outputs=headModel)"
      ],
      "execution_count": null,
      "outputs": [
        {
          "output_type": "stream",
          "text": [
            "WARNING:tensorflow:`input_shape` is undefined or non-square, or `rows` is not in [96, 128, 160, 192, 224]. Weights for input shape (224, 224) will be loaded as the default.\n",
            "Downloading data from https://storage.googleapis.com/tensorflow/keras-applications/mobilenet_v2/mobilenet_v2_weights_tf_dim_ordering_tf_kernels_1.0_224_no_top.h5\n",
            "9412608/9406464 [==============================] - 0s 0us/step\n"
          ],
          "name": "stdout"
        }
      ]
    },
    {
      "cell_type": "code",
      "metadata": {
        "id": "MrcSLLiRmR3Z"
      },
      "source": [
        "for layer in baseModel.layers:\n",
        "\tlayer.trainable = False"
      ],
      "execution_count": null,
      "outputs": []
    },
    {
      "cell_type": "markdown",
      "metadata": {
        "id": "0yzrHwrGnsTq"
      },
      "source": [
        "###  Compiling the Model"
      ]
    },
    {
      "cell_type": "code",
      "metadata": {
        "id": "TKdBLrEynf4m"
      },
      "source": [
        "INIT_LR = 1e-4\n",
        "EPOCHS = 20\n",
        "BS = 32\n",
        "opt = Adam(lr=INIT_LR, decay=INIT_LR / EPOCHS)\n",
        "model.compile(loss=\"binary_crossentropy\", optimizer=opt,\n",
        "\tmetrics=[\"accuracy\"])"
      ],
      "execution_count": null,
      "outputs": []
    },
    {
      "cell_type": "markdown",
      "metadata": {
        "id": "CpxBFopOoE5-"
      },
      "source": [
        "### Training "
      ]
    },
    {
      "cell_type": "code",
      "metadata": {
        "id": "zzV7lb2Gn8pM",
        "outputId": "e29b89d6-3797-4032-9527-d2308e6e2ad4",
        "colab": {
          "base_uri": "https://localhost:8080/",
          "height": 734
        }
      },
      "source": [
        "H = model.fit(\n",
        "\taug.flow(trainX, trainY, batch_size=BS),\n",
        "\tsteps_per_epoch=len(trainX) // BS,\n",
        "\tvalidation_data=(testX, testY),\n",
        "\tvalidation_steps=len(testX) // BS,\n",
        "\tepochs=EPOCHS)"
      ],
      "execution_count": null,
      "outputs": [
        {
          "output_type": "stream",
          "text": [
            "Epoch 1/20\n",
            "43/43 [==============================] - ETA: 0s - loss: 0.4232 - accuracy: 0.8020WARNING:tensorflow:Callbacks method `on_test_batch_end` is slow compared to the batch time (batch time: 0.0130s vs `on_test_batch_end` time: 0.0371s). Check your callbacks.\n",
            "43/43 [==============================] - 16s 369ms/step - loss: 0.4232 - accuracy: 0.8020 - val_loss: 0.1534 - val_accuracy: 0.9659\n",
            "Epoch 2/20\n",
            "43/43 [==============================] - 15s 352ms/step - loss: 0.1661 - accuracy: 0.9396 - val_loss: 0.0864 - val_accuracy: 0.9744\n",
            "Epoch 3/20\n",
            "43/43 [==============================] - 15s 351ms/step - loss: 0.1068 - accuracy: 0.9622 - val_loss: 0.0687 - val_accuracy: 0.9801\n",
            "Epoch 4/20\n",
            "43/43 [==============================] - 15s 352ms/step - loss: 0.0756 - accuracy: 0.9818 - val_loss: 0.0578 - val_accuracy: 0.9801\n",
            "Epoch 5/20\n",
            "43/43 [==============================] - 15s 352ms/step - loss: 0.0609 - accuracy: 0.9789 - val_loss: 0.0511 - val_accuracy: 0.9886\n",
            "Epoch 6/20\n",
            "43/43 [==============================] - 15s 354ms/step - loss: 0.0516 - accuracy: 0.9854 - val_loss: 0.0477 - val_accuracy: 0.9886\n",
            "Epoch 7/20\n",
            "43/43 [==============================] - 15s 358ms/step - loss: 0.0520 - accuracy: 0.9811 - val_loss: 0.0448 - val_accuracy: 0.9915\n",
            "Epoch 8/20\n",
            "43/43 [==============================] - 15s 357ms/step - loss: 0.0523 - accuracy: 0.9825 - val_loss: 0.0439 - val_accuracy: 0.9858\n",
            "Epoch 9/20\n",
            "43/43 [==============================] - 15s 358ms/step - loss: 0.0474 - accuracy: 0.9847 - val_loss: 0.0418 - val_accuracy: 0.9886\n",
            "Epoch 10/20\n",
            "43/43 [==============================] - 15s 357ms/step - loss: 0.0402 - accuracy: 0.9876 - val_loss: 0.0398 - val_accuracy: 0.9886\n",
            "Epoch 11/20\n",
            "43/43 [==============================] - 15s 356ms/step - loss: 0.0264 - accuracy: 0.9913 - val_loss: 0.0388 - val_accuracy: 0.9915\n",
            "Epoch 12/20\n",
            "43/43 [==============================] - 15s 357ms/step - loss: 0.0374 - accuracy: 0.9862 - val_loss: 0.0368 - val_accuracy: 0.9915\n",
            "Epoch 13/20\n",
            "43/43 [==============================] - 15s 357ms/step - loss: 0.0258 - accuracy: 0.9934 - val_loss: 0.0394 - val_accuracy: 0.9915\n",
            "Epoch 14/20\n",
            "43/43 [==============================] - 15s 355ms/step - loss: 0.0453 - accuracy: 0.9825 - val_loss: 0.0373 - val_accuracy: 0.9915\n",
            "Epoch 15/20\n",
            "43/43 [==============================] - 15s 355ms/step - loss: 0.0353 - accuracy: 0.9884 - val_loss: 0.0380 - val_accuracy: 0.9915\n",
            "Epoch 16/20\n",
            "43/43 [==============================] - 15s 352ms/step - loss: 0.0250 - accuracy: 0.9920 - val_loss: 0.0396 - val_accuracy: 0.9915\n",
            "Epoch 17/20\n",
            "43/43 [==============================] - 15s 352ms/step - loss: 0.0292 - accuracy: 0.9905 - val_loss: 0.0386 - val_accuracy: 0.9915\n",
            "Epoch 18/20\n",
            "43/43 [==============================] - 15s 354ms/step - loss: 0.0239 - accuracy: 0.9942 - val_loss: 0.0395 - val_accuracy: 0.9915\n",
            "Epoch 19/20\n",
            "43/43 [==============================] - 15s 355ms/step - loss: 0.0258 - accuracy: 0.9913 - val_loss: 0.0391 - val_accuracy: 0.9915\n",
            "Epoch 20/20\n",
            "43/43 [==============================] - 15s 353ms/step - loss: 0.0172 - accuracy: 0.9956 - val_loss: 0.0373 - val_accuracy: 0.9915\n"
          ],
          "name": "stdout"
        }
      ]
    },
    {
      "cell_type": "markdown",
      "metadata": {
        "id": "ItlCI3B5rkOe"
      },
      "source": [
        "### Evaluating the Network"
      ]
    },
    {
      "cell_type": "code",
      "metadata": {
        "id": "XWBev3uvrTnn",
        "outputId": "2f953b02-823c-4b0d-d197-1a46edfd9362",
        "colab": {
          "base_uri": "https://localhost:8080/",
          "height": 170
        }
      },
      "source": [
        "predIdxs = model.predict(testX, batch_size=BS)\n",
        "predictions = model.predict(x=testX, batch_size=32)\n",
        "print(classification_report(testY.argmax(axis=1),predictions.argmax(axis=1), target_names=lb.classes_))"
      ],
      "execution_count": null,
      "outputs": [
        {
          "output_type": "stream",
          "text": [
            "              precision    recall  f1-score   support\n",
            "\n",
            "     No Mask       0.98      1.00      0.99       167\n",
            "   With Mask       1.00      0.98      0.99       185\n",
            "\n",
            "    accuracy                           0.99       352\n",
            "   macro avg       0.99      0.99      0.99       352\n",
            "weighted avg       0.99      0.99      0.99       352\n",
            "\n"
          ],
          "name": "stdout"
        }
      ]
    },
    {
      "cell_type": "code",
      "metadata": {
        "id": "6mNqEae0sbbz",
        "outputId": "ead3d481-db2d-4f80-d8a5-f958500451d9",
        "colab": {
          "base_uri": "https://localhost:8080/",
          "height": 34
        }
      },
      "source": [
        "# Losses and Accuracy Graphs\n",
        "N = np.arange(0, EPOCHS)\n",
        "plt.style.use(\"ggplot\")\n",
        "plt.figure()\n",
        "plt.plot(N, H.history[\"loss\"], label=\"train_loss\")\n",
        "plt.plot(N, H.history[\"val_loss\"], label=\"val_loss\")\n",
        "plt.plot(N, H.history[\"accuracy\"], label=\"train_acc\")\n",
        "plt.plot(N, H.history[\"val_accuracy\"], label=\"val_acc\")\n",
        "plt.title(\"Training Loss and Accuracy\")\n",
        "plt.xlabel(\"Epoch #\")\n",
        "plt.ylabel(\"Loss/Accuracy\")\n",
        "plt.legend()"
      ],
      "execution_count": null,
      "outputs": [
        {
          "output_type": "execute_result",
          "data": {
            "text/plain": [
              "<matplotlib.legend.Legend at 0x7efc8a3a2d68>"
            ]
          },
          "metadata": {
            "tags": []
          },
          "execution_count": 15
        }
      ]
    },
    {
      "cell_type": "markdown",
      "metadata": {
        "id": "mCxfVd-7vHpj"
      },
      "source": [
        "## Part 3 -  Saving the model and labels for future"
      ]
    },
    {
      "cell_type": "code",
      "metadata": {
        "id": "qqVPpUh-vCF-"
      },
      "source": [
        "import pickle\n",
        "\n",
        "model.save('/content/drive/My Drive/MaskDetector Dataset/maskclassfier.model', save_format=\"h5\")\n",
        "f = open('/content/drive/My Drive/MaskDetector Dataset/labels_mask.pickle', \"wb\")\n",
        "f.write(pickle.dumps(lb.classes_))\n",
        "f.close()\n",
        "\n"
      ],
      "execution_count": null,
      "outputs": []
    },
    {
      "cell_type": "markdown",
      "metadata": {
        "id": "aTxTP6Jlvsjm"
      },
      "source": [
        "## Part 4 - Detecting Faces and then Masked Faces"
      ]
    },
    {
      "cell_type": "code",
      "metadata": {
        "id": "l0RZ6bblvTJ_"
      },
      "source": [
        "from tensorflow.keras.applications.mobilenet_v2 import preprocess_input\n",
        "from tensorflow.keras.preprocessing.image import img_to_array\n",
        "from tensorflow.keras.models import load_model\n",
        "import numpy as np\n",
        "import argparse\n",
        "import cv2\n",
        "import os\n",
        "import pickle"
      ],
      "execution_count": null,
      "outputs": []
    },
    {
      "cell_type": "markdown",
      "metadata": {
        "id": "QPT90KW-v_IF"
      },
      "source": [
        "### Loading the pretrained Face Detector Model"
      ]
    },
    {
      "cell_type": "code",
      "metadata": {
        "id": "ja_mDjPSEQSS",
        "outputId": "7e261789-e0ec-48cf-9ed9-e7e051561e84",
        "colab": {
          "base_uri": "https://localhost:8080/",
          "height": 34
        }
      },
      "source": [
        "from google.colab import drive\n",
        "drive.mount('/content/drive')"
      ],
      "execution_count": null,
      "outputs": [
        {
          "output_type": "stream",
          "text": [
            "Mounted at /content/drive\n"
          ],
          "name": "stdout"
        }
      ]
    },
    {
      "cell_type": "code",
      "metadata": {
        "id": "sK0Vhakav-Jp"
      },
      "source": [
        "prototxtPath = '/content/drive/My Drive/face_detector/deploy.prototxt'\n",
        "weightsPath = '/content/drive/My Drive/face_detector/res10_300x300_ssd_iter_140000.caffemodel'\n",
        "net = cv2.dnn.readNet(prototxtPath, weightsPath)"
      ],
      "execution_count": null,
      "outputs": []
    },
    {
      "cell_type": "markdown",
      "metadata": {
        "id": "M-MNnB34wQnZ"
      },
      "source": [
        "### Loading the Classifier model  and labels"
      ]
    },
    {
      "cell_type": "code",
      "metadata": {
        "id": "bpUwIchMwJag"
      },
      "source": [
        "model = load_model('/content/drive/My Drive/MaskDetector Dataset/maskclassfier.model')\n",
        "lb = pickle.loads(open('/content/drive/My Drive/MaskDetector Dataset/labels_mask.pickle', \"rb\").read())\n",
        "\n"
      ],
      "execution_count": null,
      "outputs": []
    },
    {
      "cell_type": "markdown",
      "metadata": {
        "id": "QmeQ26sUw3IM"
      },
      "source": [
        "### Loading and Preprocessing Testing Image"
      ]
    },
    {
      "cell_type": "code",
      "metadata": {
        "id": "KgWmTtLl9sP1"
      },
      "source": [
        "image = cv2.imread('/content/drive/My Drive/example06.jpg')\n",
        "orig = image.copy()\n",
        "(h, w) = image.shape[:2]"
      ],
      "execution_count": null,
      "outputs": []
    },
    {
      "cell_type": "code",
      "metadata": {
        "id": "9sqkhFsI90Rx"
      },
      "source": [
        "blob = cv2.dnn.blobFromImage(image, 1.0, (300, 300),(104.0, 177.0, 123.0))"
      ],
      "execution_count": null,
      "outputs": []
    },
    {
      "cell_type": "code",
      "metadata": {
        "id": "i97OB8Ld92au"
      },
      "source": [
        "#Computing face detections\n",
        "net.setInput(blob)\n",
        "detections = net.forward()"
      ],
      "execution_count": null,
      "outputs": []
    },
    {
      "cell_type": "code",
      "metadata": {
        "id": "NR_GwcH998dE",
        "outputId": "1b4eb19c-4cf8-46fe-aa24-982fac344c59",
        "colab": {
          "base_uri": "https://localhost:8080/",
          "height": 34
        }
      },
      "source": [
        "for i in range(0, detections.shape[2]):\n",
        "    confidence = detections[0, 0, i, 2]\n",
        "    if confidence > 0.5:\n",
        "        box = detections[0, 0, i, 3:7] * np.array([w, h, w, h])\n",
        "        (startX, startY, endX, endY) = box.astype(\"int\")\n",
        "        (startX, startY) = (max(0, startX), max(0, startY))\n",
        "        (endX, endY) = (min(w - 1, endX), min(h - 1, endY))\n",
        "        \n",
        "        face = image[startY:endY, startX:endX]\n",
        "        face = cv2.cvtColor(face, cv2.COLOR_BGR2RGB)\n",
        "        face = cv2.resize(face, (224, 224))\n",
        "        face = img_to_array(face)\n",
        "        face = preprocess_input(face)\n",
        "        face = np.expand_dims(face, axis=0)\n",
        "        (withoutMask,mask) = model.predict(face)[0]\n",
        "        label = \"Mask\" if mask > withoutMask else \"No Mask\"\n",
        "        color = (0, 255, 0) if label == \"Mask\" else (0, 0, 255)\n",
        "        label = \"{}: {:.2f}%\".format(label, max(mask, withoutMask) * 100)\n",
        "        cv2.putText(image, label, (startX, startY - 10),cv2.FONT_HERSHEY_SIMPLEX, 0.45, color, 2)\n",
        "        cv2.rectangle(image, (startX, startY), (endX, endY), color, 2)\n",
        "        print(label)"
      ],
      "execution_count": null,
      "outputs": [
        {
          "output_type": "stream",
          "text": [
            "Mask: 98.93%\n"
          ],
          "name": "stdout"
        }
      ]
    },
    {
      "cell_type": "code",
      "metadata": {
        "id": "Ez4hRp9pxQxk",
        "outputId": "7b3cd16c-7e5b-4ad8-d46e-dbc6909bc511",
        "colab": {
          "base_uri": "https://localhost:8080/",
          "height": 293
        }
      },
      "source": [
        "from google.colab.patches import cv2_imshow\n",
        "cv2_imshow(image)\n",
        "cv2.waitKey(0)"
      ],
      "execution_count": null,
      "outputs": [
        {
          "output_type": "display_data",
          "data": {
            "image/png": "[encoded data removed]",
            "text/plain": [
              "<PIL.Image.Image image mode=RGB size=194x259 at 0x7EFC7E5FAB00>"
            ]
          },
          "metadata": {
            "tags": []
          }
        },
        {
          "output_type": "execute_result",
          "data": {
            "text/plain": [
              "-1"
            ]
          },
          "metadata": {
            "tags": []
          },
          "execution_count": 64
        }
      ]
    },
    {
      "cell_type": "code",
      "metadata": {
        "id": "uhORQf-Exc9_"
      },
      "source": [
        ""
      ],
      "execution_count": null,
      "outputs": []
    }
  ]
}